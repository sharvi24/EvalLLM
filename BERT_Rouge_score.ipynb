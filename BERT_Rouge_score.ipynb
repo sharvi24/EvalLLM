{
 "cells": [
  {
   "cell_type": "code",
   "execution_count": 47,
   "id": "c575c1c3",
   "metadata": {},
   "outputs": [],
   "source": [
    "import json\n",
    "import matplotlib.pyplot as plt\n",
    "from evaluate import load\n",
    "import numpy as np"
   ]
  },
  {
   "cell_type": "code",
   "execution_count": 64,
   "id": "fee7caa6",
   "metadata": {},
   "outputs": [],
   "source": [
    "# pip install bert_score\n",
    "bertscore = load(\"bertscore\")"
   ]
  },
  {
   "cell_type": "code",
   "execution_count": 66,
   "id": "b1178d12",
   "metadata": {},
   "outputs": [],
   "source": [
    "model_outputs = []\n",
    "ground_truth = []\n",
    "with open('results/Charmides..json') as f:\n",
    "    results = json.load(f)\n",
    "for res in results:\n",
    "    if res['target'] is None:\n",
    "        continue\n",
    "    model_outputs.append([res['output']])\n",
    "    ground_truth.append([res['target']])"
   ]
  },
  {
   "cell_type": "code",
   "execution_count": 98,
   "id": "88b0a06e",
   "metadata": {},
   "outputs": [
    {
     "name": "stdout",
     "output_type": "stream",
     "text": [
      "0\n",
      "1\n",
      "2\n",
      "3\n",
      "4\n",
      "5\n",
      "6\n",
      "7\n",
      "8\n",
      "9\n",
      "10\n",
      "11\n",
      "12\n",
      "13\n",
      "14\n",
      "15\n",
      "16\n",
      "17\n",
      "18\n",
      "19\n",
      "20\n",
      "21\n",
      "22\n",
      "23\n",
      "24\n",
      "25\n",
      "26\n",
      "27\n",
      "28\n",
      "29\n",
      "30\n",
      "31\n",
      "32\n",
      "33\n",
      "34\n",
      "35\n",
      "36\n",
      "37\n",
      "38\n",
      "39\n",
      "40\n",
      "41\n",
      "42\n",
      "43\n",
      "44\n",
      "45\n",
      "46\n",
      "47\n",
      "48\n",
      "49\n",
      "50\n",
      "51\n",
      "52\n",
      "53\n",
      "54\n",
      "55\n",
      "56\n",
      "57\n",
      "58\n",
      "59\n",
      "60\n",
      "61\n",
      "62\n",
      "63\n",
      "64\n",
      "65\n",
      "66\n",
      "67\n",
      "68\n",
      "69\n",
      "70\n",
      "71\n",
      "72\n",
      "73\n",
      "74\n",
      "75\n",
      "76\n",
      "77\n",
      "78\n",
      "79\n",
      "80\n",
      "81\n",
      "82\n",
      "83\n",
      "84\n",
      "85\n",
      "86\n",
      "87\n",
      "88\n",
      "89\n",
      "90\n",
      "91\n",
      "92\n",
      "93\n",
      "94\n",
      "95\n",
      "96\n",
      "97\n",
      "98\n",
      "99\n",
      "100\n",
      "101\n",
      "102\n",
      "103\n",
      "104\n",
      "105\n",
      "106\n",
      "107\n",
      "108\n"
     ]
    },
    {
     "name": "stderr",
     "output_type": "stream",
     "text": [
      "Warning: Empty candidate sentence detected; setting raw BERTscores to 0.\n",
      "Warning: Empty reference sentence detected; setting raw BERTScores to 0.\n"
     ]
    },
    {
     "name": "stdout",
     "output_type": "stream",
     "text": [
      "109\n"
     ]
    },
    {
     "name": "stderr",
     "output_type": "stream",
     "text": [
      "Warning: Empty candidate sentence detected; setting raw BERTscores to 0.\n",
      "Warning: Empty reference sentence detected; setting raw BERTScores to 0.\n"
     ]
    },
    {
     "name": "stdout",
     "output_type": "stream",
     "text": [
      "110\n",
      "111\n"
     ]
    },
    {
     "name": "stderr",
     "output_type": "stream",
     "text": [
      "Warning: Empty reference sentence detected; setting raw BERTScores to 0.\n"
     ]
    }
   ],
   "source": [
    "scores = []\n",
    "for i in range(len(model_outputs)):\n",
    "    score = bertscore.compute(predictions=model_outputs[i], references=ground_truth[i], lang=\"en\")\n",
    "    print(i)\n",
    "    scores.append(score)"
   ]
  },
  {
   "cell_type": "code",
   "execution_count": 74,
   "id": "a8205e6a",
   "metadata": {},
   "outputs": [
    {
     "name": "stdout",
     "output_type": "stream",
     "text": [
      "['\\n\\n\\n\\n\\n\\n\\n\\n\\n\\n'] ['']\n"
     ]
    }
   ],
   "source": [
    "print(model_outputs[109], ground_truth[109])"
   ]
  },
  {
   "cell_type": "code",
   "execution_count": 75,
   "id": "64ea1da9",
   "metadata": {},
   "outputs": [
    {
     "name": "stdout",
     "output_type": "stream",
     "text": [
      "['\\n\\n\\t\\t\\t\\t\\t\\t\\t\\t\\t\\t\\t\\t\\t\\t\\t\\t\\t\\t\\t\\t\\t\\t\\t\\t\\t\\t\\t\\t\\t\\t\\t\\t\\t\\t\\t\\t\\t\\t\\t\\t\\t\\t\\t\\t\\t\\t\\t\\t\\t\\t\\t\\t\\t\\t\\t\\t\\t\\t\\t\\t\\t\\t\\t\\t\\t\\t\\t\\t\\t\\t\\t\\t\\t\\t\\t\\t\\t\\t\\t\\t\\t\\t\\t\\t\\t\\t\\t\\t\\t\\t\\t\\t\\t\\t\\t\\t\\t\\t\\t\\t\\t\\t\\t\\t\\t\\t\\t\\t\\t\\t\\t\\t\\t\\t\\t\\t\\t\\t\\t\\t\\t\\t\\t\\t\\t\\t'] ['']\n"
     ]
    }
   ],
   "source": [
    "print(model_outputs[110], ground_truth[110])"
   ]
  },
  {
   "cell_type": "code",
   "execution_count": 76,
   "id": "e6047070",
   "metadata": {},
   "outputs": [
    {
     "name": "stdout",
     "output_type": "stream",
     "text": [
      "['The context of the function.\\n  *   The context of the function.\\n  *   The context of the function.\\n  *   The context of the function.\\n  *   The context of the function.\\n  *   The context of the function.\\n  *   The context of the function.\\n  *   The context of the function.\\n  *   The context of the function.\\n  *   The context of the function.\\n  *   The context of the function.\\n  *   The context of the function.\\n  *   The context of the function.\\n '] ['']\n"
     ]
    }
   ],
   "source": [
    "print(model_outputs[111], ground_truth[111])"
   ]
  },
  {
   "cell_type": "code",
   "execution_count": 89,
   "id": "59955728",
   "metadata": {},
   "outputs": [
    {
     "data": {
      "text/plain": [
       "{'precision': [0.7881151437759399],\n",
       " 'recall': [0.8457372784614563],\n",
       " 'f1': [0.8159101009368896],\n",
       " 'hashcode': 'roberta-large_L17_no-idf_version=0.3.12(hug_trans=4.30.2)'}"
      ]
     },
     "execution_count": 89,
     "metadata": {},
     "output_type": "execute_result"
    }
   ],
   "source": [
    "scores[0]"
   ]
  },
  {
   "cell_type": "code",
   "execution_count": 93,
   "id": "8c201fb6",
   "metadata": {},
   "outputs": [],
   "source": [
    "avg_f1_score = 0\n",
    "avg_precision_score = 0\n",
    "avg_recall_score = 0\n",
    "for i in range(len(scores)):\n",
    "    avg_f1_score += scores[i]['f1'][0]\n",
    "    avg_precision_score += scores[i]['precision'][0]\n",
    "    avg_recall_score += scores[i]['recall'][0]\n",
    "    \n",
    "avg_f1_score = avg_f1_score/len(scores)\n",
    "avg_precision_score = avg_precision_score/len(scores)\n",
    "avg_recall_score = avg_recall_score/len(scores)"
   ]
  },
  {
   "cell_type": "code",
   "execution_count": 96,
   "id": "9c14d104",
   "metadata": {},
   "outputs": [
    {
     "name": "stdout",
     "output_type": "stream",
     "text": [
      "Average F1 score is 0.7880056617515427\n",
      "Average Precision score is 0.7435963664736066\n",
      "Average Recall score is 0.8397667088678905\n"
     ]
    }
   ],
   "source": [
    "print(f'Average F1 score is {avg_f1_score}')\n",
    "print(f'Average Precision score is {avg_precision_score}')\n",
    "print(f'Average Recall score is {avg_recall_score}')"
   ]
  },
  {
   "cell_type": "code",
   "execution_count": 94,
   "id": "f4574767",
   "metadata": {},
   "outputs": [
    {
     "data": {
      "image/png": "[encoded data removed]",
      "text/plain": [
       "<Figure size 640x480 with 1 Axes>"
      ]
     },
     "metadata": {},
     "output_type": "display_data"
    }
   ],
   "source": [
    "# Visualizations  \n",
    "plt.bar(['F1_Score', 'Precision', 'Recall'], [avg_f1_score, avg_precision_score, avg_recall_score])\n",
    "plt.title('Average Scores')\n",
    "plt.savefig('BERTscores.png')"
   ]
  },
  {
   "cell_type": "code",
   "execution_count": 100,
   "id": "da560314",
   "metadata": {},
   "outputs": [],
   "source": [
    "from rouge_score import rouge_scorer\n",
    "scorer = rouge_scorer.RougeScorer(['rouge1', 'rougeL'], use_stemmer=True)"
   ]
  },
  {
   "cell_type": "code",
   "execution_count": 102,
   "id": "e6a3406b",
   "metadata": {},
   "outputs": [],
   "source": [
    "model_str_outputs = []\n",
    "ground_str_truth = []\n",
    "with open('results/Charmides..json') as f:\n",
    "    results = json.load(f)\n",
    "for res in results:\n",
    "    if res['target'] is None:\n",
    "        continue\n",
    "    model_str_outputs.append(res['output'])\n",
    "    ground_str_truth.append(res['target'])"
   ]
  },
  {
   "cell_type": "code",
   "execution_count": 104,
   "id": "f7aa72cc",
   "metadata": {},
   "outputs": [
    {
     "name": "stdout",
     "output_type": "stream",
     "text": [
      "0\n",
      "1\n",
      "2\n",
      "3\n",
      "4\n",
      "5\n",
      "6\n",
      "7\n",
      "8\n",
      "9\n",
      "10\n",
      "11\n",
      "12\n",
      "13\n",
      "14\n",
      "15\n",
      "16\n",
      "17\n",
      "18\n",
      "19\n",
      "20\n",
      "21\n",
      "22\n",
      "23\n",
      "24\n",
      "25\n",
      "26\n",
      "27\n",
      "28\n",
      "29\n",
      "30\n",
      "31\n",
      "32\n",
      "33\n",
      "34\n",
      "35\n",
      "36\n",
      "37\n",
      "38\n",
      "39\n",
      "40\n",
      "41\n",
      "42\n",
      "43\n",
      "44\n",
      "45\n",
      "46\n",
      "47\n",
      "48\n",
      "49\n",
      "50\n",
      "51\n",
      "52\n",
      "53\n",
      "54\n",
      "55\n",
      "56\n",
      "57\n",
      "58\n",
      "59\n",
      "60\n",
      "61\n",
      "62\n",
      "63\n",
      "64\n",
      "65\n",
      "66\n",
      "67\n",
      "68\n",
      "69\n",
      "70\n",
      "71\n",
      "72\n",
      "73\n",
      "74\n",
      "75\n",
      "76\n",
      "77\n",
      "78\n",
      "79\n",
      "80\n",
      "81\n",
      "82\n",
      "83\n",
      "84\n",
      "85\n",
      "86\n",
      "87\n",
      "88\n",
      "89\n",
      "90\n",
      "91\n",
      "92\n",
      "93\n",
      "94\n",
      "95\n",
      "96\n",
      "97\n",
      "98\n",
      "99\n",
      "100\n",
      "101\n",
      "102\n",
      "103\n",
      "104\n",
      "105\n",
      "106\n",
      "107\n",
      "108\n",
      "109\n",
      "110\n",
      "111\n"
     ]
    }
   ],
   "source": [
    "rouge_scores = []\n",
    "for i in range(len(model_outputs)):\n",
    "    rouge_score = scorer.score(model_str_outputs[i], ground_str_truth[i])\n",
    "    print(i)\n",
    "    rouge_scores.append(rouge_score)"
   ]
  },
  {
   "cell_type": "code",
   "execution_count": 105,
   "id": "4ee5f158",
   "metadata": {},
   "outputs": [
    {
     "data": {
      "text/plain": [
       "{'rouge1': Score(precision=0.5, recall=0.042105263157894736, fmeasure=0.07766990291262135),\n",
       " 'rougeL': Score(precision=0.375, recall=0.031578947368421054, fmeasure=0.05825242718446602)}"
      ]
     },
     "execution_count": 105,
     "metadata": {},
     "output_type": "execute_result"
    }
   ],
   "source": [
    "rouge_scores[0]"
   ]
  },
  {
   "cell_type": "code",
   "execution_count": 108,
   "id": "f9bbd412",
   "metadata": {},
   "outputs": [
    {
     "data": {
      "text/plain": [
       "0.042105263157894736"
      ]
     },
     "execution_count": 108,
     "metadata": {},
     "output_type": "execute_result"
    }
   ],
   "source": [
    "rouge_scores[0]['rouge1'][1]"
   ]
  },
  {
   "cell_type": "code",
   "execution_count": 109,
   "id": "31d15344",
   "metadata": {},
   "outputs": [],
   "source": [
    "avg_rouge1_f1_score = 0\n",
    "avg_rouge1_precision_score = 0\n",
    "avg_rouge1_recall_score = 0\n",
    "\n",
    "avg_rougeL_f1_score = 0\n",
    "avg_rougeL_precision_score = 0\n",
    "avg_rougeL_recall_score = 0\n",
    "\n",
    "for i in range(len(rouge_scores)):\n",
    "    avg_rouge1_f1_score += rouge_scores[i]['rouge1'][2]\n",
    "    avg_rouge1_precision_score += rouge_scores[i]['rouge1'][0]\n",
    "    avg_rouge1_recall_score += rouge_scores[i]['rouge1'][1]\n",
    "    \n",
    "    avg_rougeL_f1_score += rouge_scores[i]['rougeL'][2]\n",
    "    avg_rougeL_precision_score += rouge_scores[i]['rougeL'][0]\n",
    "    avg_rougeL_recall_score += rouge_scores[i]['rougeL'][1]\n",
    "    \n",
    "    \n",
    "avg_rouge1_f1_score = avg_rouge1_f1_score/len(rouge_scores)\n",
    "avg_rouge1_precision_score = avg_rouge1_precision_score/len(rouge_scores)\n",
    "avg_rouge1_recall_score = avg_rouge1_recall_score/len(rouge_scores)\n",
    "\n",
    "avg_rougeL_f1_score = avg_rougeL_f1_score/len(rouge_scores)\n",
    "avg_rougeL_precision_score = avg_rougeL_precision_score/len(rouge_scores)\n",
    "avg_rougeL_recall_score = avg_rougeL_recall_score/len(rouge_scores)"
   ]
  },
  {
   "cell_type": "code",
   "execution_count": null,
   "id": "e3e6f9b0",
   "metadata": {},
   "outputs": [],
   "source": [
    "# Visualizations  \n",
    "plt.bar(['F1_Score', 'Precision', 'Recall'], [avg_f1_score, avg_precision_score, avg_recall_score])\n",
    "plt.title('Average Scores')\n",
    "plt.savefig('ROUGEscores.png')"
   ]
  },
  {
   "cell_type": "code",
   "execution_count": 117,
   "id": "c03bd6d3",
   "metadata": {},
   "outputs": [
    {
     "name": "stdout",
     "output_type": "stream",
     "text": [
      "Average F1 score for rouge1 and rougeL are 0.03206827928130345, 0.027078456277548898\n",
      "Average Precision for rouge1 and rougeL are  0.19762057480198125, 0.1865673748690241\n",
      "Average Recall for rouge1 and rougeL are 0.02410617501716299, 0.019619184066997475\n"
     ]
    }
   ],
   "source": [
    "print(f'Average F1 score for rouge1 and rougeL are {avg_rouge1_f1_score}, {avg_rougeL_f1_score}')\n",
    "print(f'Average Precision for rouge1 and rougeL are  {avg_rouge1_precision_score}, {avg_rougeL_precision_score}')\n",
    "print(f'Average Recall for rouge1 and rougeL are {avg_rouge1_recall_score}, {avg_rougeL_recall_score}')"
   ]
  },
  {
   "cell_type": "code",
   "execution_count": 116,
   "id": "369cd69f",
   "metadata": {},
   "outputs": [
    {
     "data": {
      "image/png": "[encoded data removed]",
      "text/plain": [
       "<Figure size 640x480 with 1 Axes>"
      ]
     },
     "metadata": {},
     "output_type": "display_data"
    }
   ],
   "source": [
    "categories = ['Avg_f1_scores', 'Avg_precision_scores', 'Avg_recall_scores']\n",
    "rouge1 = [avg_rouge1_f1_score, avg_rouge1_precision_score, avg_rouge1_recall_score]\n",
    "rougeL = [avg_rougeL_f1_score, avg_rougeL_precision_score, avg_rougeL_recall_score]\n",
    "\n",
    "# Number of categories\n",
    "num_categories = len(categories)\n",
    "\n",
    "# Width of a bar\n",
    "bar_width = 0.2\n",
    "\n",
    "# Bar positions for each category\n",
    "x = np.arange(num_categories)\n",
    "\n",
    "# Create subplots to group F1, Precision, and Recall scores\n",
    "fig, ax = plt.subplots()\n",
    "\n",
    "# Grouped bar for F1 scores\n",
    "plt.bar(x - bar_width, rouge1, bar_width, label='rouge1', align='center')\n",
    "\n",
    "# Grouped bar for Precision scores\n",
    "plt.bar(x, rougeL, bar_width, label='rougeL', align='center')\n",
    "\n",
    "# Set x-axis labels\n",
    "plt.xticks(x, categories)\n",
    "\n",
    "# Set y-axis label\n",
    "plt.ylabel('Scores')\n",
    "\n",
    "# Set the title for the chart\n",
    "plt.title('Rouge Scores')\n",
    "\n",
    "# Add a legend\n",
    "plt.legend()\n",
    "\n",
    "# Show the plot\n",
    "plt.tight_layout()\n",
    "plt.show()"
   ]
  },
  {
   "cell_type": "code",
   "execution_count": null,
   "id": "753f22dd",
   "metadata": {},
   "outputs": [],
   "source": []
  }
 ],
 "metadata": {
  "kernelspec": {
   "display_name": "py38",
   "language": "python",
   "name": "py38"
  },
  "language_info": {
   "codemirror_mode": {
    "name": "ipython",
    "version": 3
   },
   "file_extension": ".py",
   "mimetype": "text/x-python",
   "name": "python",
   "nbconvert_exporter": "python",
   "pygments_lexer": "ipython3",
   "version": "3.8.16"
  }
 },
 "nbformat": 4,
 "nbformat_minor": 5
}
