{
 "cells": [
  {
   "cell_type": "markdown",
   "id": "8467b15e",
   "metadata": {
    "toc": true
   },
   "source": [
    "<h1>Table of Contents<span class=\"tocSkip\"></span></h1>\n",
    "<div class=\"toc\"><ul class=\"toc-item\"><li><span><a href=\"#Analysis-of-similarity-between-model-output-and-target\" data-toc-modified-id=\"Analysis-of-similarity-between-model-output-and-target-1\"><span class=\"toc-item-num\">1&nbsp;&nbsp;</span>Analysis of similarity between model output and target</a></span><ul class=\"toc-item\"><li><span><a href=\"#Example-of-prompt,-generated-output,-and-target\" data-toc-modified-id=\"Example-of-prompt,-generated-output,-and-target-1.1\"><span class=\"toc-item-num\">1.1&nbsp;&nbsp;</span>Example of prompt, generated output, and target</a></span></li><li><span><a href=\"#bert-score-analysis\" data-toc-modified-id=\"bert-score-analysis-1.2\"><span class=\"toc-item-num\">1.2&nbsp;&nbsp;</span>bert-score analysis</a></span><ul class=\"toc-item\"><li><span><a href=\"#Distribution-of-F1-scores\" data-toc-modified-id=\"Distribution-of-F1-scores-1.2.1\"><span class=\"toc-item-num\">1.2.1&nbsp;&nbsp;</span>Distribution of F1 scores</a></span></li></ul></li><li><span><a href=\"#Rouge-score-analysis\" data-toc-modified-id=\"Rouge-score-analysis-1.3\"><span class=\"toc-item-num\">1.3&nbsp;&nbsp;</span>Rouge score analysis</a></span></li></ul></li><li><span><a href=\"#Answer-type-analysis\" data-toc-modified-id=\"Answer-type-analysis-2\"><span class=\"toc-item-num\">2&nbsp;&nbsp;</span>Answer type analysis</a></span></li></ul></div>"
   ]
  },
  {
   "cell_type": "code",
   "execution_count": 1,
   "id": "c575c1c3",
   "metadata": {},
   "outputs": [],
   "source": [
    "import json\n",
    "import matplotlib.pyplot as plt\n",
    "import numpy as np\n",
    "from evaluate import load\n",
    "from statistics import mean\n"
   ]
  },
  {
   "cell_type": "markdown",
   "id": "c16e9094",
   "metadata": {},
   "source": [
    "# Analysis of similarity between model output and target"
   ]
  },
  {
   "cell_type": "code",
   "execution_count": 7,
   "id": "b1178d12",
   "metadata": {},
   "outputs": [],
   "source": [
    "prompts = []\n",
    "model_outputs = []\n",
    "model_str_outputs = []\n",
    "ground_truth = []\n",
    "ground_str_truth = []\n",
    "\n",
    "with open('results/2023-10-14/Charmides..json') as f:\n",
    "    results = json.load(f)\n",
    "for res in results:\n",
    "    if res['target'] is None:\n",
    "        continue\n",
    "    prompts.append([res['prompt']])\n",
    "    model_outputs.append([res['output']])\n",
    "    ground_truth.append([res['target']])\n",
    "    model_str_outputs.append(res['output']) \n",
    "    ground_str_truth.append(res['target'])"
   ]
  },
  {
   "cell_type": "markdown",
   "id": "d95d2e60",
   "metadata": {},
   "source": [
    "## Example of prompt, generated output, and target "
   ]
  },
  {
   "cell_type": "code",
   "execution_count": 10,
   "id": "e6047070",
   "metadata": {},
   "outputs": [
    {
     "name": "stdout",
     "output_type": "stream",
     "text": [
      "Prompt: ['I will give you a passage and a question, please provide a precise answer. Passage: And now you perceive, I said, that no such science is to be found anywhere.I perceive, he said.Yet the a priori idea of knowledge may make it easier to test the knowledge of others.May we assume then, I said, that wisdom, viewed in this new light merely as a knowledge of knowledge and ignorance, has this advantage:—that he who possesses such knowledge will more easily learn anything which he learns; and that everything will be clearer to him, because, in addition to the knowledge of individuals, he sees the science, and this also will better enable him to test the knowledge which others have of what he knows himself; whereas the enquirer who is without this knowledge may be supposed to have a feebler and weaker insight? Are not these, my friend, the real advantages which are to be gained from wisdom? Based on the previous context answer this question: He will consider whether what he says is true, and whether what he does is right, in relation to health and disease?. Provide answer for the question using the context in 1 of 3 options (Make sure to start with option number in your response): 1. Write an Answer, 2. True or False,  3. If given passage is insufficient to answer this question, say it.']\n",
      "\n",
      " Model's output: ['\\nI will give you a passage and a question, please provide a precise answer.\\nPassage: And now you perceive, I said, that no such science is to be found anywhere.\\nI perceive, he said.\\nYet the a priori idea of knowledge may make it easier to test the knowledge of others.\\nMay we assume then, I said, that wisdom, viewed in this new light merely as a knowledge of knowledge and ignorance, has this advantage:—that he who possesses such knowledge will more easily learn anything which he learns; and that everything will be clearer to him, because']\n",
      "\n",
      " Target: ['That is very likely, he said.']\n"
     ]
    }
   ],
   "source": [
    "print(f\"Prompt: {prompts[111]}\\n\\n\", f\"Model's output: {model_outputs[111]}\\n\\n\", \n",
    "      f\"Target: {ground_truth[111]}\")"
   ]
  },
  {
   "cell_type": "markdown",
   "id": "fda7e3cc",
   "metadata": {},
   "source": [
    "## bert-score analysis"
   ]
  },
  {
   "cell_type": "code",
   "execution_count": 5,
   "id": "88b0a06e",
   "metadata": {
    "collapsed": true
   },
   "outputs": [
    {
     "data": {
      "application/vnd.jupyter.widget-view+json": {
       "model_id": "d8fb58c8809f44669830f3690c8bd179",
       "version_major": 2,
       "version_minor": 0
      },
      "text/plain": [
       "Downloading:   0%|          | 0.00/482 [00:00<?, ?B/s]"
      ]
     },
     "metadata": {},
     "output_type": "display_data"
    },
    {
     "data": {
      "application/vnd.jupyter.widget-view+json": {
       "model_id": "61f9677fba104952a7c02c9cb4e3fbbc",
       "version_major": 2,
       "version_minor": 0
      },
      "text/plain": [
       "Downloading:   0%|          | 0.00/899k [00:00<?, ?B/s]"
      ]
     },
     "metadata": {},
     "output_type": "display_data"
    },
    {
     "data": {
      "application/vnd.jupyter.widget-view+json": {
       "model_id": "a23ed02e3f0e43de9f6a9eafee0a483c",
       "version_major": 2,
       "version_minor": 0
      },
      "text/plain": [
       "Downloading:   0%|          | 0.00/456k [00:00<?, ?B/s]"
      ]
     },
     "metadata": {},
     "output_type": "display_data"
    },
    {
     "data": {
      "application/vnd.jupyter.widget-view+json": {
       "model_id": "537dcbac4807441b8e94968d28d25d8a",
       "version_major": 2,
       "version_minor": 0
      },
      "text/plain": [
       "Downloading:   0%|          | 0.00/1.43G [00:00<?, ?B/s]"
      ]
     },
     "metadata": {},
     "output_type": "display_data"
    },
    {
     "name": "stdout",
     "output_type": "stream",
     "text": [
      "0\n",
      "1\n",
      "2\n",
      "3\n"
     ]
    },
    {
     "name": "stderr",
     "output_type": "stream",
     "text": [
      "Warning: Empty candidate sentence detected; setting raw BERTscores to 0.\n"
     ]
    },
    {
     "name": "stdout",
     "output_type": "stream",
     "text": [
      "4\n",
      "5\n"
     ]
    },
    {
     "name": "stderr",
     "output_type": "stream",
     "text": [
      "Warning: Empty candidate sentence detected; setting raw BERTscores to 0.\n"
     ]
    },
    {
     "name": "stdout",
     "output_type": "stream",
     "text": [
      "6\n",
      "7\n",
      "8\n",
      "9\n",
      "10\n"
     ]
    },
    {
     "name": "stderr",
     "output_type": "stream",
     "text": [
      "Warning: Empty candidate sentence detected; setting raw BERTscores to 0.\n"
     ]
    },
    {
     "name": "stdout",
     "output_type": "stream",
     "text": [
      "11\n",
      "12\n"
     ]
    },
    {
     "name": "stderr",
     "output_type": "stream",
     "text": [
      "Warning: Empty candidate sentence detected; setting raw BERTscores to 0.\n"
     ]
    },
    {
     "name": "stdout",
     "output_type": "stream",
     "text": [
      "13\n",
      "14\n",
      "15\n",
      "16\n",
      "17\n",
      "18\n",
      "19\n",
      "20\n"
     ]
    },
    {
     "name": "stderr",
     "output_type": "stream",
     "text": [
      "Warning: Empty candidate sentence detected; setting raw BERTscores to 0.\n"
     ]
    },
    {
     "name": "stdout",
     "output_type": "stream",
     "text": [
      "21\n",
      "22\n",
      "23\n",
      "24\n",
      "25\n",
      "26\n",
      "27\n",
      "28\n",
      "29\n",
      "30\n",
      "31\n",
      "32\n",
      "33\n",
      "34\n",
      "35\n",
      "36\n",
      "37\n",
      "38\n",
      "39\n",
      "40\n",
      "41\n",
      "42\n",
      "43\n",
      "44\n",
      "45\n",
      "46\n",
      "47\n",
      "48\n"
     ]
    },
    {
     "name": "stderr",
     "output_type": "stream",
     "text": [
      "Warning: Empty candidate sentence detected; setting raw BERTscores to 0.\n"
     ]
    },
    {
     "name": "stdout",
     "output_type": "stream",
     "text": [
      "49\n",
      "50\n",
      "51\n",
      "52\n",
      "53\n",
      "54\n",
      "55\n",
      "56\n",
      "57\n",
      "58\n",
      "59\n",
      "60\n",
      "61\n",
      "62\n",
      "63\n",
      "64\n"
     ]
    },
    {
     "name": "stderr",
     "output_type": "stream",
     "text": [
      "Warning: Empty candidate sentence detected; setting raw BERTscores to 0.\n"
     ]
    },
    {
     "name": "stdout",
     "output_type": "stream",
     "text": [
      "65\n",
      "66\n",
      "67\n",
      "68\n",
      "69\n",
      "70\n",
      "71\n",
      "72\n",
      "73\n"
     ]
    },
    {
     "name": "stderr",
     "output_type": "stream",
     "text": [
      "Warning: Empty candidate sentence detected; setting raw BERTscores to 0.\n"
     ]
    },
    {
     "name": "stdout",
     "output_type": "stream",
     "text": [
      "74\n",
      "75\n",
      "76\n",
      "77\n",
      "78\n"
     ]
    },
    {
     "name": "stderr",
     "output_type": "stream",
     "text": [
      "Warning: Empty candidate sentence detected; setting raw BERTscores to 0.\n",
      "Warning: Empty candidate sentence detected; setting raw BERTscores to 0.\n"
     ]
    },
    {
     "name": "stdout",
     "output_type": "stream",
     "text": [
      "79\n",
      "80\n",
      "81\n"
     ]
    },
    {
     "name": "stderr",
     "output_type": "stream",
     "text": [
      "Warning: Empty candidate sentence detected; setting raw BERTscores to 0.\n"
     ]
    },
    {
     "name": "stdout",
     "output_type": "stream",
     "text": [
      "82\n",
      "83\n",
      "84\n",
      "85\n",
      "86\n",
      "87\n",
      "88\n",
      "89\n",
      "90\n",
      "91\n",
      "92\n",
      "93\n",
      "94\n",
      "95\n",
      "96\n",
      "97\n",
      "98\n",
      "99\n",
      "100\n"
     ]
    },
    {
     "name": "stderr",
     "output_type": "stream",
     "text": [
      "Warning: Empty candidate sentence detected; setting raw BERTscores to 0.\n"
     ]
    },
    {
     "name": "stdout",
     "output_type": "stream",
     "text": [
      "101\n",
      "102\n",
      "103\n",
      "104\n",
      "105\n",
      "106\n",
      "107\n",
      "108\n",
      "109\n",
      "110\n"
     ]
    },
    {
     "name": "stderr",
     "output_type": "stream",
     "text": [
      "Warning: Empty candidate sentence detected; setting raw BERTscores to 0.\n"
     ]
    },
    {
     "name": "stdout",
     "output_type": "stream",
     "text": [
      "111\n",
      "112\n",
      "113\n",
      "114\n",
      "115\n",
      "116\n",
      "117\n",
      "118\n",
      "119\n"
     ]
    },
    {
     "name": "stderr",
     "output_type": "stream",
     "text": [
      "Warning: Empty candidate sentence detected; setting raw BERTscores to 0.\n"
     ]
    },
    {
     "name": "stdout",
     "output_type": "stream",
     "text": [
      "120\n",
      "121\n",
      "122\n",
      "123\n"
     ]
    },
    {
     "name": "stderr",
     "output_type": "stream",
     "text": [
      "Warning: Empty candidate sentence detected; setting raw BERTscores to 0.\n"
     ]
    },
    {
     "name": "stdout",
     "output_type": "stream",
     "text": [
      "124\n",
      "125\n",
      "126\n",
      "127\n"
     ]
    },
    {
     "name": "stderr",
     "output_type": "stream",
     "text": [
      "Warning: Empty candidate sentence detected; setting raw BERTscores to 0.\n",
      "Warning: Empty reference sentence detected; setting raw BERTScores to 0.\n",
      "Warning: Empty reference sentence detected; setting raw BERTScores to 0.\n"
     ]
    },
    {
     "name": "stdout",
     "output_type": "stream",
     "text": [
      "128\n",
      "129\n"
     ]
    },
    {
     "name": "stderr",
     "output_type": "stream",
     "text": [
      "Warning: Empty reference sentence detected; setting raw BERTScores to 0.\n"
     ]
    }
   ],
   "source": [
    "# pip install bert_score\n",
    "\n",
    "bertscore = load(\"bertscore\")\n",
    "scores = []\n",
    "for i in range(len(model_outputs)):\n",
    "    score = bertscore.compute(predictions=model_outputs[i], references=ground_truth[i], lang=\"en\")\n",
    "    scores.append(score)\n",
    "\n",
    "f1_scores = [score['f1'][0] for score in scores]\n",
    "precision_scores = [score['precision'][0] for score in scores]\n",
    "recall_scores = [score['recall'][0] for score in scores]\n",
    "\n",
    "avg_f1_score = mean(f1_scores)\n",
    "avg_precision_score = mean(precision_scores)  \n",
    "avg_recall_score = mean(recall_scores)"
   ]
  },
  {
   "cell_type": "markdown",
   "id": "98aebd91",
   "metadata": {},
   "source": [
    "### Distribution of F1 scores"
   ]
  },
  {
   "cell_type": "code",
   "execution_count": 38,
   "id": "f5993817",
   "metadata": {},
   "outputs": [
    {
     "data": {
      "text/plain": [
       "(array([ 18.,   0.,   0.,   0.,   0.,   0.,   0.,   0.,   1., 111.]),\n",
       " array([0.        , 0.08564882, 0.17129765, 0.25694647, 0.34259529,\n",
       "        0.42824411, 0.51389294, 0.59954176, 0.68519058, 0.77083941,\n",
       "        0.85648823]),\n",
       " <BarContainer object of 10 artists>)"
      ]
     },
     "execution_count": 38,
     "metadata": {},
     "output_type": "execute_result"
    },
    {
     "data": {
      "image/png": "[encoded data removed]",
      "text/plain": [
       "<Figure size 640x480 with 1 Axes>"
      ]
     },
     "metadata": {},
     "output_type": "display_data"
    }
   ],
   "source": [
    "plt.hist(f1_scores)"
   ]
  },
  {
   "cell_type": "code",
   "execution_count": 16,
   "id": "f92deec1",
   "metadata": {},
   "outputs": [
    {
     "name": "stdout",
     "output_type": "stream",
     "text": [
      "Average F1 score is 0.7099208240325634\n",
      "Average Precision score is 0.6785039379046514\n",
      "Average Recall score is 0.7451146909823785\n"
     ]
    }
   ],
   "source": [
    "print(f'Average F1 score is {avg_f1_score}')\n",
    "print(f'Average Precision score is {avg_precision_score}')\n",
    "print(f'Average Recall score is {avg_recall_score}')"
   ]
  },
  {
   "cell_type": "code",
   "execution_count": 17,
   "id": "f4574767",
   "metadata": {},
   "outputs": [
    {
     "data": {
      "image/png": "[encoded data removed]",
      "text/plain": [
       "<Figure size 640x480 with 1 Axes>"
      ]
     },
     "metadata": {},
     "output_type": "display_data"
    }
   ],
   "source": [
    "# Visualizations  \n",
    "plt.bar(['F1_Score', 'Precision', 'Recall'], [avg_f1_score, avg_precision_score, avg_recall_score])\n",
    "plt.title('Average Scores')\n",
    "plt.savefig('BERTscores2.png')"
   ]
  },
  {
   "cell_type": "markdown",
   "id": "110c71c0",
   "metadata": {},
   "source": [
    "## Rouge score analysis"
   ]
  },
  {
   "cell_type": "code",
   "execution_count": 43,
   "id": "da560314",
   "metadata": {},
   "outputs": [
    {
     "name": "stdout",
     "output_type": "stream",
     "text": [
      "First ROUGE score: {'rouge1': Score(precision=0.3191489361702128, recall=0.19230769230769232, fmeasure=0.24000000000000002), 'rougeL': Score(precision=0.1702127659574468, recall=0.10256410256410256, fmeasure=0.128)}\n"
     ]
    }
   ],
   "source": [
    "from rouge_score import rouge_scorer\n",
    "scorer = rouge_scorer.RougeScorer(['rouge1', 'rougeL'], use_stemmer=True)\n",
    "\n",
    "\n",
    "# Calculate ROUGE scores\n",
    "rouge_scores = []\n",
    "for i in range(len(model_outputs)):\n",
    "    rouge_score = scorer.score(model_str_outputs[i], ground_str_truth[i])\n",
    "    rouge_scores.append(rouge_score)\n",
    "\n",
    "\n",
    "# # Print ROUGE-1 F1 score \n",
    "# print(f\"ROUGE-1 F1 score: {rouge_scores[0]['rouge1'].fmeasure}\" )\n",
    "# print(rouge_scores[0]['rouge1'][1])"
   ]
  },
  {
   "cell_type": "code",
   "execution_count": 29,
   "id": "31d15344",
   "metadata": {},
   "outputs": [],
   "source": [
    "from statistics import mean\n",
    "\n",
    "rouge1_f1_scores = [score['rouge1'][2] for score in rouge_scores]\n",
    "rouge1_precision_scores = [score['rouge1'][0] for score in rouge_scores]\n",
    "rouge1_recall_scores = [score['rouge1'][1] for score in rouge_scores]\n",
    "\n",
    "rougeL_f1_scores = [score['rougeL'][2] for score in rouge_scores]\n",
    "rougeL_precision_scores = [score['rougeL'][0] for score in rouge_scores]\n",
    "rougeL_recall_scores = [score['rougeL'][1] for score in rouge_scores]\n",
    "\n",
    "avg_rouge1_f1_score = mean(rouge1_f1_scores)\n",
    "avg_rouge1_precision_score = mean(rouge1_precision_scores)\n",
    "avg_rouge1_recall_score = mean(rouge1_recall_scores)\n",
    "\n",
    "avg_rougeL_f1_score = mean(rougeL_f1_scores)\n",
    "avg_rougeL_precision_score = mean(rougeL_precision_scores)\n",
    "avg_rougeL_recall_score = mean(rougeL_recall_scores)"
   ]
  },
  {
   "cell_type": "code",
   "execution_count": 31,
   "id": "c03bd6d3",
   "metadata": {},
   "outputs": [
    {
     "name": "stdout",
     "output_type": "stream",
     "text": [
      "Average F1 score for rouge1 and rougeL are 0.04796313121661261, 0.034900481211425305\n",
      "Average Precision for rouge1 and rougeL are  0.35943304337926973, 0.31579073448188266\n",
      "Average Recall for rouge1 and rougeL are 0.03369155308708208, 0.02316886990048641\n"
     ]
    }
   ],
   "source": [
    "print(f'Average F1 score for rouge1 and rougeL are {avg_rouge1_f1_score}, {avg_rougeL_f1_score}')\n",
    "print(f'Average Precision for rouge1 and rougeL are  {avg_rouge1_precision_score}, {avg_rougeL_precision_score}')\n",
    "print(f'Average Recall for rouge1 and rougeL are {avg_rouge1_recall_score}, {avg_rougeL_recall_score}')"
   ]
  },
  {
   "cell_type": "code",
   "execution_count": 30,
   "id": "e3e6f9b0",
   "metadata": {},
   "outputs": [
    {
     "data": {
      "image/png": "[encoded data removed]",
      "text/plain": [
       "<Figure size 640x480 with 1 Axes>"
      ]
     },
     "metadata": {},
     "output_type": "display_data"
    }
   ],
   "source": [
    "# Visualizations  \n",
    "plt.bar(['F1_Score', 'Precision', 'Recall'], [avg_rouge1_f1_score, avg_rouge1_precision_score, avg_rouge1_recall_score])\n",
    "plt.title('Average Scores')\n",
    "plt.savefig('ROUGEscores.png')"
   ]
  },
  {
   "cell_type": "code",
   "execution_count": 32,
   "id": "369cd69f",
   "metadata": {},
   "outputs": [
    {
     "data": {
      "image/png": "[encoded data removed]",
      "text/plain": [
       "<Figure size 640x480 with 1 Axes>"
      ]
     },
     "metadata": {},
     "output_type": "display_data"
    }
   ],
   "source": [
    "categories = ['Avg_f1_scores', 'Avg_precision_scores', 'Avg_recall_scores']\n",
    "rouge1 = [avg_rouge1_f1_score, avg_rouge1_precision_score, avg_rouge1_recall_score]\n",
    "rougeL = [avg_rougeL_f1_score, avg_rougeL_precision_score, avg_rougeL_recall_score]\n",
    "\n",
    "# Number of categories\n",
    "num_categories = len(categories)\n",
    "\n",
    "# Width of a bar\n",
    "bar_width = 0.2\n",
    "\n",
    "# Bar positions for each category\n",
    "x = np.arange(num_categories)\n",
    "\n",
    "# Create subplots to group F1, Precision, and Recall scores\n",
    "fig, ax = plt.subplots()\n",
    "\n",
    "# Grouped bar for F1 scores\n",
    "plt.bar(x - bar_width, rouge1, bar_width, label='rouge1', align='center')\n",
    "\n",
    "# Grouped bar for Precision scores\n",
    "plt.bar(x, rougeL, bar_width, label='rougeL', align='center')\n",
    "\n",
    "# Set x-axis labels\n",
    "plt.xticks(x, categories)\n",
    "\n",
    "# Set y-axis label\n",
    "plt.ylabel('Scores')\n",
    "\n",
    "# Set the title for the chart\n",
    "plt.title('Rouge Scores')\n",
    "\n",
    "# Add a legend\n",
    "plt.legend()\n",
    "\n",
    "# Show the plot\n",
    "plt.tight_layout()\n",
    "plt.show()"
   ]
  },
  {
   "cell_type": "markdown",
   "id": "a3a1b6a0",
   "metadata": {},
   "source": [
    "# Answer type analysis"
   ]
  },
  {
   "cell_type": "code",
   "execution_count": 37,
   "id": "b2b11578",
   "metadata": {},
   "outputs": [
    {
     "name": "stderr",
     "output_type": "stream",
     "text": [
      "[nltk_data] Downloading package wordnet to\n",
      "[nltk_data]     /Users/sakshambassi/nltk_data...\n",
      "[nltk_data]   Package wordnet is already up-to-date!\n"
     ]
    },
    {
     "name": "stdout",
     "output_type": "stream",
     "text": [
      "Accuracy: 75.00%\n"
     ]
    },
    {
     "data": {
      "image/png": "[encoded data removed]",
      "text/plain": [
       "<Figure size 640x480 with 1 Axes>"
      ]
     },
     "metadata": {},
     "output_type": "display_data"
    }
   ],
   "source": [
    "import json\n",
    "import matplotlib.pyplot as plt\n",
    "import nltk\n",
    "from nltk.corpus import wordnet\n",
    "from fuzzywuzzy import fuzz\n",
    "\n",
    "nltk.download('wordnet')\n",
    "with open('results/2023-10-14/Charmides..json') as f:\n",
    "    results = json.load(f)\n",
    "\n",
    "type1_count = 0\n",
    "type2_count = 0\n",
    "type3_count = 0\n",
    "\n",
    "for res in results:\n",
    "    if res['target'] is None:\n",
    "        continue\n",
    "\n",
    "    if fuzz.partial_ratio(res['output'], res['target']) > 80:\n",
    "        type3_count += 1\n",
    "\n",
    "    else:\n",
    "        target_synsets = wordnet.synsets(res['target'])\n",
    "\n",
    "        for syn in target_synsets:\n",
    "            for lemma in syn.lemmas():\n",
    "                if lemma.name() == res['output']:\n",
    "                    type2_count += 1\n",
    "                    break\n",
    "\n",
    "        if type2_count == 0:\n",
    "            if fuzz.partial_ratio(res['output'], res['target']) > 60:\n",
    "                type1_count += 1\n",
    "\n",
    "# Visualizations\n",
    "plt.bar(['Type 1', 'Type 2', 'Type 3'], [type1_count, type2_count, type3_count])\n",
    "plt.title('Output Type Counts')\n",
    "plt.ylabel('Count')\n",
    "plt.savefig('output_types.png')\n",
    "\n",
    "total = type1_count + type2_count + type3_count\n",
    "accuracy = type1_count / total\n",
    "print(f'Accuracy: {accuracy*100:.2f}%')\n"
   ]
  },
  {
   "cell_type": "code",
   "execution_count": null,
   "id": "e4584305",
   "metadata": {},
   "outputs": [],
   "source": []
  }
 ],
 "metadata": {
  "kernelspec": {
   "display_name": "Python 3 (ipykernel)",
   "language": "python",
   "name": "python3"
  },
  "language_info": {
   "codemirror_mode": {
    "name": "ipython",
    "version": 3
   },
   "file_extension": ".py",
   "mimetype": "text/x-python",
   "name": "python",
   "nbconvert_exporter": "python",
   "pygments_lexer": "ipython3",
   "version": "3.10.6"
  },
  "toc": {
   "base_numbering": 1,
   "nav_menu": {},
   "number_sections": true,
   "sideBar": true,
   "skip_h1_title": false,
   "title_cell": "Table of Contents",
   "title_sidebar": "Contents",
   "toc_cell": true,
   "toc_position": {},
   "toc_section_display": true,
   "toc_window_display": false
  }
 },
 "nbformat": 4,
 "nbformat_minor": 5
}
